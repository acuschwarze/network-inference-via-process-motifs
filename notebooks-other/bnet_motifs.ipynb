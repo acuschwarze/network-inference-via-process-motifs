{
 "cells": [
  {
   "cell_type": "markdown",
   "id": "dfda73f9-c834-42da-bb42-01642c0cc75f",
   "metadata": {},
   "source": [
    "#### Import packages ..."
   ]
  },
  {
   "cell_type": "code",
   "execution_count": 1,
   "id": "f469918c-80cf-4c6d-b084-92c42ec0b98c",
   "metadata": {
    "jupyter": {
     "source_hidden": true
    },
    "tags": []
   },
   "outputs": [],
   "source": [
    "import sys\n",
    "import matplotlib \n",
    "import matplotlib.patches as mpatches\n",
    "import matplotlib.transforms as mtransforms\n",
    "from matplotlib import pyplot as plt\n",
    "from matplotlib.font_manager import FontProperties\n",
    "from matplotlib.patches import FancyBboxPatch\n",
    "import numpy as np\n",
    "import networkx as nx\n",
    "\n",
    "sys.path.append('../utils/')\n",
    "sys.path.append('../libs/')\n",
    "from curvygraph import *\n",
    "from utils import rcPhysRev, c8, draw_process_motif, boldfont, sim"
   ]
  },
  {
   "cell_type": "markdown",
   "id": "25b60ab3-1691-4530-8abb-9bac3ff8249a",
   "metadata": {},
   "source": [
    "#### Set fonts for figures ..."
   ]
  },
  {
   "cell_type": "code",
   "execution_count": 2,
   "id": "962fa5cb-0e60-4248-ab69-5ad8f8530e81",
   "metadata": {
    "jupyter": {
     "source_hidden": true
    },
    "tags": []
   },
   "outputs": [],
   "source": [
    "%%capture\n",
    "# some matplotlib configs to make labels pretty\n",
    "rcPhysRev()\n",
    "\n",
    "# define some font types\n",
    "fontstandard= FontProperties()\n",
    "fontbold = boldfont()"
   ]
  },
  {
   "cell_type": "markdown",
   "id": "2de3a32a-ece5-4b0b-a456-68652542308a",
   "metadata": {},
   "source": [
    "#### Define some functions for drawing figure elements ..."
   ]
  },
  {
   "cell_type": "code",
   "execution_count": 4,
   "id": "341910d2-a6e6-4e56-86dc-2b179c0d5957",
   "metadata": {
    "jupyter": {
     "source_hidden": true
    },
    "tags": []
   },
   "outputs": [],
   "source": [
    "def drawGraph2(c, r, ax=None, colors=None, G=None, nodesize=300, arrowsize=20, \n",
    "    width=2, ec='k', aspect=1, nodepad_x=0.05, nodepad_y=0.1, rectangular=False, \n",
    "    draw=True, hide_edges=False):\n",
    "    if ax is None:\n",
    "        ax = plt.gca()\n",
    "    if G is None:\n",
    "        G = nx.DiGraph()\n",
    "        G.add_nodes_from(range(3))\n",
    "        G.add_edges_from([(0,1),(1,2),(2,0)])\n",
    "    if colors is None: \n",
    "        colors = ['#022957','#ff8000','#6e6e6e']\n",
    "\n",
    "    # make a dummy graph\n",
    "    D = nx.Graph()\n",
    "    D.add_edge(0,0)\n",
    "\n",
    "    # make list of node positions\n",
    "    cos30, sin30 = np.sqrt(3)/2, 1/2\n",
    "    pos_arr = np.array([[0,1],[cos30,-sin30],\n",
    "                        [-cos30,-sin30]])\n",
    "    pos_arr[:,1] = pos_arr[:,1]*aspect\n",
    "    pos_arr = np.array(c)+r*pos_arr\n",
    "    \n",
    "    if draw:\n",
    "        \n",
    "        # plot empty circle\n",
    "        nx.draw_networkx_nodes(D, \n",
    "            pos={0: (0+c[0],0*aspect+c[1])}, \n",
    "            node_color='white', linewidths=1, edgecolors=ec, \n",
    "            node_size=nodesize)        \n",
    "\n",
    "        # draw nodes\n",
    "        for i in range(3):\n",
    "            nx.draw_networkx_nodes(D, \n",
    "                pos={0: pos_arr[i]}, \n",
    "                node_color=colors[i], linewidths=1, edgecolors=ec, \n",
    "                node_size=nodesize)\n",
    "\n",
    "        ecolor = 'k'\n",
    "        nx.draw_networkx_edges(G, pos={i: pos_arr[i] for i in range(3)}, \n",
    "                               width=width, arrowsize=arrowsize,\n",
    "                               node_size=nodesize, edge_color=ecolor)\n",
    "    return(G, pos_arr)"
   ]
  },
  {
   "cell_type": "code",
   "execution_count": 6,
   "id": "f1b0dc6e-7edf-486b-b27b-873fb319202b",
   "metadata": {
    "jupyter": {
     "source_hidden": true
    },
    "tags": []
   },
   "outputs": [],
   "source": [
    "def drawGraph3(c, r, ax=None, colors=None, G=None, nodesize=300, arrowsize=20, \n",
    "    width=2, ec='k', aspect=1, nodepad_x=0.05, nodepad_y=0.1, rectangular=False, \n",
    "    draw=True, hide_edges=False):\n",
    "    num_nodes = 5\n",
    "    if ax is None:\n",
    "        ax = plt.gca()\n",
    "    if G is None:\n",
    "        G = nx.DiGraph()\n",
    "        G.add_nodes_from(range(num_nodes))\n",
    "        G.add_edges_from([(1,0),(2,0),(1,2),(3,0), (4,0), (3,4)])\n",
    "    if colors is None: \n",
    "        colors = ['#ff8000','#022957','#6e6e6e']\n",
    "\n",
    "    # make a dummy graph\n",
    "    D = nx.Graph()\n",
    "    D.add_edge(0,0)\n",
    "\n",
    "    # make list of node positions\n",
    "    cos30, sin30 = np.sqrt(3)/2, 1/2\n",
    "    pos_arr = np.array([[0,0],[cos30,-sin30], [cos30,sin30],\n",
    "                        [-cos30,-sin30], [-cos30,sin30]])\n",
    "    pos_arr[:,1] = pos_arr[:,1]*aspect\n",
    "    pos_arr = np.array(c)+r*pos_arr\n",
    "    \n",
    "    if draw:\n",
    "        \n",
    "        # draw nodes\n",
    "        for i in range(num_nodes):\n",
    "            nx.draw_networkx_nodes(D, \n",
    "                pos={0: pos_arr[i]}, \n",
    "                node_color=colors[int(bool(i))], linewidths=1, edgecolors=ec, \n",
    "                node_size=nodesize)\n",
    "\n",
    "        ecolor = 'k'\n",
    "        nx.draw_networkx_edges(G, pos={i: pos_arr[i] for i in range(num_nodes)}, \n",
    "                               width=width, arrowsize=arrowsize,\n",
    "                               node_size=nodesize, edge_color=ecolor)\n",
    "    return(G, pos_arr)"
   ]
  },
  {
   "cell_type": "markdown",
   "id": "c7a86a10-4207-452e-93c7-16c4b0676031",
   "metadata": {},
   "source": [
    "#### Draw motifs ...\n",
    "(These figures do not appear in the paper. I just use them in some presentations.)"
   ]
  },
  {
   "cell_type": "code",
   "execution_count": 5,
   "id": "6861ab4d-8f64-4321-8461-aed300805f32",
   "metadata": {
    "jupyter": {
     "source_hidden": true
    },
    "tags": []
   },
   "outputs": [
    {
     "data": {
      "image/png": "[encoded data removed]",
      "text/plain": [
       "<Figure size 144x108 with 1 Axes>"
      ]
     },
     "metadata": {},
     "output_type": "display_data"
    }
   ],
   "source": [
    "plt.figure(figsize=(2,1.5))\n",
    "ax = plt.subplot(111)\n",
    "ax.axis('off')\n",
    "r = 0.25\n",
    "rr = 0.2\n",
    "aspect=1.5\n",
    "nodesize=300\n",
    "rectangular=True\n",
    "drawGraph2((0.9,-0.5), rr, arrowsize=20, nodesize=nodesize, \n",
    "          width=1.5, aspect=2, hide_edges=False) \n",
    "xlim = ax.get_xlim()\n",
    "ax.set_xlim(xlim[0]-0.1,xlim[1]+0.1)\n",
    "ylim = ax.get_ylim()\n",
    "ax.set_ylim(ylim[0]-0.1,ylim[1]+0.1)\n",
    "plt.savefig('../figures/feedback_motif.pdf')"
   ]
  },
  {
   "cell_type": "code",
   "execution_count": 7,
   "id": "7a27cee9-1465-45fb-8674-d2483b0490b4",
   "metadata": {
    "jupyter": {
     "source_hidden": true
    },
    "tags": []
   },
   "outputs": [
    {
     "data": {
      "image/png": "[encoded data removed]",
      "text/plain": [
       "<Figure size 144x108 with 1 Axes>"
      ]
     },
     "metadata": {},
     "output_type": "display_data"
    }
   ],
   "source": [
    "plt.figure(figsize=(2,1.5))\n",
    "ax = plt.subplot(111)\n",
    "ax.axis('off')\n",
    "r = 0.25\n",
    "rr = 0.2\n",
    "aspect=1.5\n",
    "nodesize=200\n",
    "rectangular=True\n",
    "drawGraph3((0.9,-0.5), rr, arrowsize=20, nodesize=nodesize, \n",
    "          width=1.5, aspect=2, hide_edges=False) \n",
    "xlim = ax.get_xlim()\n",
    "ax.set_xlim(xlim[0]-0.1,xlim[1]+0.1)\n",
    "ylim = ax.get_ylim()\n",
    "ax.set_ylim(ylim[0]-0.1,ylim[1]+0.1)\n",
    "plt.savefig('../figures/mff_motif.pdf')"
   ]
  },
  {
   "cell_type": "code",
   "execution_count": null,
   "id": "9a055125-4b30-4678-ae71-090859b6aa6c",
   "metadata": {},
   "outputs": [],
   "source": []
  }
 ],
 "metadata": {
  "kernelspec": {
   "display_name": "Python 3 (ipykernel)",
   "language": "python",
   "name": "python3"
  },
  "language_info": {
   "codemirror_mode": {
    "name": "ipython",
    "version": 3
   },
   "file_extension": ".py",
   "mimetype": "text/x-python",
   "name": "python",
   "nbconvert_exporter": "python",
   "pygments_lexer": "ipython3",
   "version": "3.8.5"
  }
 },
 "nbformat": 4,
 "nbformat_minor": 5
}
