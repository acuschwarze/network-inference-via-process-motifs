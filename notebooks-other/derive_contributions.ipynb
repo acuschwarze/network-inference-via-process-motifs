{
 "cells": [
  {
   "cell_type": "markdown",
   "metadata": {},
   "source": [
    "# Derivations of correction factors $\\alpha$\n",
    "\n",
    "Start by importing some packages and defining some functions."
   ]
  },
  {
   "cell_type": "code",
   "execution_count": 1,
   "metadata": {
    "jupyter": {
     "source_hidden": true
    },
    "tags": []
   },
   "outputs": [],
   "source": [
    "import sympy\n",
    "from matplotlib import pyplot as plt\n",
    "import numpy as np\n",
    "from sympy.abc import epsilon, sigma, tau, c, n, p, q, z\n",
    "from sympy import Max, Abs, binomial, hyper"
   ]
  },
  {
   "cell_type": "markdown",
   "metadata": {},
   "source": [
    "Define variables $\\Delta~t_{\\tau}$, $\\ell_F$, and $\\ell_F$ in sympy"
   ]
  },
  {
   "cell_type": "code",
   "execution_count": 2,
   "metadata": {
    "tags": []
   },
   "outputs": [],
   "source": [
    "dtt = sympy.symbols('\\Delta~t_tau')\n",
    "lf = sympy.symbols('ell_F')\n",
    "lb = sympy.symbols('ell_B')"
   ]
  },
  {
   "cell_type": "markdown",
   "metadata": {},
   "source": [
    "Derive contributions to ${\\bf S}^{(0)}$ and lag-1 covariance ${\\bf S}^{(1)}$"
   ]
  },
  {
   "cell_type": "code",
   "execution_count": 4,
   "metadata": {},
   "outputs": [],
   "source": [
    "lmax1 = Max(lb,lf)+1\n",
    "ldiff = Abs(lf-lb)\n",
    "phi = dtt**(lb+lf+1)*(1-dtt)**(ldiff)*binomial(lmax1-1,ldiff)*hyper((lmax1, lmax1),[ldiff+1], (1-dtt)**2)\n",
    "contribution0 = tau*sigma**2/n*epsilon**(lb+lf)*phi\n",
    "contribution1 = (1-dtt)*contribution0 + epsilon*dtt*contribution0.subs(lb,lf-1)"
   ]
  },
  {
   "cell_type": "markdown",
   "metadata": {},
   "source": [
    "Derive correction factors $\\alpha^{(\\textrm{LCCF})}$ and $\\alpha^{(\\textrm{LCRC})}$"
   ]
  },
  {
   "cell_type": "code",
   "execution_count": 5,
   "metadata": {},
   "outputs": [],
   "source": [
    "alpha_cf = contribution1.subs([(lb,1),(lf,1)])/contribution0.subs([(lb,1),(lf,1)])\n",
    "alpha_rc = contribution1.subs([(lb,1),(lf,0)])/contribution0.subs([(lb,1),(lf,0)])\n",
    "alpha_rc = alpha_rc.simplify()\n",
    "alpha_cf = alpha_cf.simplify()\n",
    "alpha_rc = sympy.factor(alpha_rc)\n",
    "alpha_cf = sympy.factor(alpha_cf)"
   ]
  },
  {
   "cell_type": "markdown",
   "metadata": {},
   "source": [
    "Show results"
   ]
  },
  {
   "cell_type": "code",
   "execution_count": 6,
   "metadata": {},
   "outputs": [
    {
     "data": {
      "text/latex": [
       "$\\displaystyle - \\frac{2 \\left(\\Delta~t_{\\tau} - 1\\right)}{\\Delta~t_{\\tau}^{2} - 2 \\Delta~t_{\\tau} + 2}$"
      ],
      "text/plain": [
       "-2*(\\Delta~t_tau - 1)/(\\Delta~t_tau**2 - 2*\\Delta~t_tau + 2)"
      ]
     },
     "execution_count": 6,
     "metadata": {},
     "output_type": "execute_result"
    }
   ],
   "source": [
    "# expression for alpha LCCF\n",
    "alpha_cf"
   ]
  },
  {
   "cell_type": "markdown",
   "metadata": {},
   "source": [
    "Sanity check: do I get the same result using the equation in manuscript? (yes!)"
   ]
  },
  {
   "cell_type": "code",
   "execution_count": 8,
   "metadata": {},
   "outputs": [
    {
     "data": {
      "text/latex": [
       "$\\displaystyle - \\frac{2 \\left(\\Delta~t_{\\tau} - 1\\right)}{\\Delta~t_{\\tau}^{2} - 2 \\Delta~t_{\\tau} + 2}$"
      ],
      "text/plain": [
       "-2*(\\Delta~t_tau - 1)/(\\Delta~t_tau**2 - 2*\\Delta~t_tau + 2)"
      ]
     },
     "execution_count": 8,
     "metadata": {},
     "output_type": "execute_result"
    }
   ],
   "source": [
    "step = (phi.subs([(lb,1),(lf,0)])/phi.subs([(lb,1),(lf,1)])).simplify().factor()\n",
    "(1-dtt*(1-step)).simplify().factor()"
   ]
  },
  {
   "cell_type": "markdown",
   "metadata": {},
   "source": [
    "Plot correction terms"
   ]
  },
  {
   "cell_type": "code",
   "execution_count": 20,
   "metadata": {},
   "outputs": [
    {
     "data": {
      "text/plain": [
       "<matplotlib.legend.Legend at 0x23461f1ef70>"
      ]
     },
     "execution_count": 20,
     "metadata": {},
     "output_type": "execute_result"
    },
    {
     "data": {
      "image/png": "[encoded data removed]",
      "text/plain": [
       "<Figure size 432x288 with 1 Axes>"
      ]
     },
     "metadata": {
      "needs_background": "light"
     },
     "output_type": "display_data"
    }
   ],
   "source": [
    "numrange = np.arange(0,1,0.05)\n",
    "data_rc = [float(alpha_rc.subs(dtt, num)) for num in numrange]\n",
    "data_cf = [float(alpha_cf.subs(dtt, num)) for num in numrange]\n",
    "plt.plot(numrange, data_rc, label='rc')\n",
    "plt.plot(numrange, data_cf, label='cf')\n",
    "plt.legend()"
   ]
  }
 ],
 "metadata": {
  "kernelspec": {
   "display_name": "Python 3 (ipykernel)",
   "language": "python",
   "name": "python3"
  },
  "language_info": {
   "codemirror_mode": {
    "name": "ipython",
    "version": 3
   },
   "file_extension": ".py",
   "mimetype": "text/x-python",
   "name": "python",
   "nbconvert_exporter": "python",
   "pygments_lexer": "ipython3",
   "version": "3.8.5"
  }
 },
 "nbformat": 4,
 "nbformat_minor": 4
}
