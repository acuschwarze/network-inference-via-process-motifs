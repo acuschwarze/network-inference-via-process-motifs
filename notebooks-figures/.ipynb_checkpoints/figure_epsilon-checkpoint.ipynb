{
 "cells": [
  {
   "cell_type": "code",
   "execution_count": 1,
   "metadata": {},
   "outputs": [
    {
     "name": "stderr",
     "output_type": "stream",
     "text": [
      "<ipython-input-1-7f22f5d138de>:16: MatplotlibDeprecationWarning: Support for setting the 'text.latex.preamble' or 'pgf.preamble' rcParam to a list of strings is deprecated since 3.3 and will be removed two minor releases later; set it to a single string instead.\n",
      "  mpl.rcParams['text.latex.preamble'] = [r'\\usepackage{amsmath}'] # for \\text command\n"
     ]
    }
   ],
   "source": [
    "import sys\n",
    "import matplotlib as mpl\n",
    "import scipy.io as sio\n",
    "import netrd \n",
    "\n",
    "sys.path.append('../utils/')\n",
    "sys.path.append('../libs/')\n",
    "from graph_models import *\n",
    "from inference_methods import *\n",
    "from utils import *\n",
    "\n",
    "NUM_CORR = 2\n",
    "NUM_NETRD = 4\n",
    "\n",
    "mpl.rcParams['text.usetex'] = True\n",
    "mpl.rcParams['text.latex.preamble'] = [r'\\usepackage{amsmath}'] # for \\text command"
   ]
  },
  {
   "cell_type": "markdown",
   "metadata": {},
   "source": [
    "# Network Size vs. Coupling Strength (Compare Methods)"
   ]
  },
  {
   "cell_type": "code",
   "execution_count": 2,
   "metadata": {},
   "outputs": [],
   "source": [
    "# Declare system and network parameters \n",
    "d = 0.2\n",
    "sigma = 0.1\n",
    "theta = 1\n",
    "dt = 0.5\n",
    "\n",
    "# Declare experiment parameters \n",
    "n_vals = np.arange(5, 55, 5)\n",
    "e_vals = np.arange(0.1, 1.0, 0.1)\n",
    "\n",
    "n_plot = np.append(n_vals, 55)\n",
    "e_plot = np.append(e_vals, 1.0)"
   ]
  },
  {
   "cell_type": "markdown",
   "metadata": {},
   "source": [
    "# Correlation Methods"
   ]
  },
  {
   "cell_type": "code",
   "execution_count": null,
   "metadata": {},
   "outputs": [
    {
     "name": "stdout",
     "output_type": "stream",
     "text": [
      "Computing accuracy for single-delay data...\n",
      "Running trials...\n",
      "Trial 0\n"
     ]
    }
   ],
   "source": [
    "# Choose number of trials:\n",
    "num_trials = 50\n",
    "\n",
    "acc_sing = []\n",
    "acc_mult = []\n",
    "for i in range(NUM_CORR):\n",
    "    acc_sing.append(np.empty((num_trials, len(n_vals), len(e_vals))))\n",
    "    acc_mult.append(np.empty((num_trials, len(n_vals), len(e_vals))))\n",
    "\n",
    "for k, acc in enumerate([acc_sing, acc_mult]):\n",
    "    if (k == 0): # single\n",
    "        print('Computing accuracy for single-delay data...')\n",
    "    else: # multiple\n",
    "        print('Computing accuracy for multiple-delay data...')\n",
    "    \n",
    "    print('Running trials...')\n",
    "    for trial in range(num_trials):\n",
    "        if (trial % 10 == 0):\n",
    "            print('Trial ' + str(trial))\n",
    "\n",
    "        for i, n in enumerate(n_vals):\n",
    "            for j, epsilon in enumerate(e_vals):\n",
    "                # Generate network \n",
    "                adj = make_adjacency(n, d)\n",
    "                m = int(np.sum(adj))\n",
    "                \n",
    "                # Generate data \n",
    "                if (k == 0): # single\n",
    "                    X = sim(adj, epsilon, sigma, theta, dt=dt, max_lag=1)\n",
    "                else: # multiple\n",
    "                    X = sim(adj, epsilon, sigma, theta, dt=dt, max_lag=5)\n",
    "                \n",
    "                # Cross correlation\n",
    "                est1 = inf_via_crosscorrelation(X, m)\n",
    "                acc[0][trial, i, j] = get_accuracy(est1, adj)\n",
    "\n",
    "                # Proposed method\n",
    "                if (k == 0):\n",
    "                    est2 = inf_via_s(X, m, max_lag=1)\n",
    "                else:\n",
    "                    est2 = inf_via_s(X, m, max_lag=5)\n",
    "                acc[1][trial, i, j] = get_accuracy(est2, adj)  \n",
    "                \n",
    "    print('Done!')\n",
    "    print()"
   ]
  },
  {
   "cell_type": "markdown",
   "metadata": {},
   "source": [
    "# CCM, NTE, OUI, and Granger"
   ]
  },
  {
   "cell_type": "code",
   "execution_count": null,
   "metadata": {},
   "outputs": [],
   "source": [
    "# Choose number of trials:\n",
    "num_trials_n = 10\n",
    "\n",
    "f1 = sio.loadmat('../data/fig_epsilon/sing.mat')\n",
    "f2 = sio.loadmat('../data/fig_epsilon/mult.mat')\n",
    "\n",
    "n_acc_sing = []\n",
    "n_acc_mult = []\n",
    "for i in range(NUM_NETRD):\n",
    "    n_acc_sing.append(np.empty((num_trials_n, len(n_vals), len(e_vals))))\n",
    "    n_acc_mult.append(np.empty((num_trials_n, len(n_vals), len(e_vals))))\n",
    "\n",
    "for k, n_acc in enumerate([n_acc_sing, n_acc_mult]):\n",
    "    for trial in range(num_trials_n):\n",
    "        for i, n in enumerate(n_vals):\n",
    "            for j, epsilon in enumerate(e_vals):\n",
    "                if (k == 0): # single\n",
    "                    adj = f1['truth'][trial][i][j]\n",
    "                    M1 = f1['ccm'][trial][i][j]\n",
    "                    M2 = f1['nte'][trial][i][j]\n",
    "                    M3 = f1['oui'][trial][i][j]\n",
    "                    M4 = f1['gc'][trial][i][j]\n",
    "                else: # multiple\n",
    "                    adj = f2['truth'][trial][i][j]\n",
    "                    M1 = f2['ccm'][trial][i][j]\n",
    "                    M2 = f2['nte'][trial][i][j]\n",
    "                    M3 = f2['oui'][trial][i][j]\n",
    "                    M4 = f2['gc'][trial][i][j]\n",
    "                m = int(np.sum(adj))\n",
    "                \n",
    "                # Convergent Cross Mapping\n",
    "                np.fill_diagonal(M1, np.inf) # ensure that diagonal entries are removed\n",
    "                est1 = threshold_values(M1, m, keep_max=False)\n",
    "                n_acc[0][trial, i, j] = get_accuracy(est1, adj)\n",
    "\n",
    "                # Naive Transfer Entropy\n",
    "                np.fill_diagonal(M2, -np.inf) # ensure that diagonal entries are removed\n",
    "                est2 = threshold_values(M2, m)\n",
    "                n_acc[1][trial, i, j] = get_accuracy(est2, adj)\n",
    "\n",
    "                # OU Inference\n",
    "                np.fill_diagonal(M3, -np.inf) # ensure that diagonal entries are removed\n",
    "                est3 = threshold_values(M3, m)\n",
    "                n_acc[2][trial, i, j] = get_accuracy(est3, adj)\n",
    "                \n",
    "                # Granger Causality \n",
    "                np.fill_diagonal(M4, -np.inf) # ensure that diagonal entries are removed\n",
    "                est4 = threshold_values(M4, m)\n",
    "                n_acc[3][trial, i, j] = get_accuracy(est4, adj)"
   ]
  },
  {
   "cell_type": "markdown",
   "metadata": {},
   "source": [
    "# Baseline"
   ]
  },
  {
   "cell_type": "code",
   "execution_count": null,
   "metadata": {},
   "outputs": [],
   "source": [
    "rand_acc = np.empty((len(n_vals)))\n",
    "for i, n in enumerate(n_vals):\n",
    "    rand_acc[i] = baseline_acc(make_rand_adj(n, int(p * n * (n - 1))))"
   ]
  },
  {
   "cell_type": "code",
   "execution_count": null,
   "metadata": {},
   "outputs": [],
   "source": [
    "all_acc_sing = acc_sing[:] + n_acc_sing[:]\n",
    "all_acc_mult = acc_mult[:] + n_acc_mult[:]\n",
    "\n",
    "titles = []\n",
    "titles.append(r'$\\Sigma$')\n",
    "titles.append(r'$\\mathrm{S}$')\n",
    "titles.append(r'$\\mathrm{CCM}$')\n",
    "titles.append(r'$\\mathrm{NTE}$')\n",
    "titles.append(r'$\\mathrm{OUI}$')\n",
    "titles.append(r'$\\mathrm{G}$')\n",
    "\n",
    "for k, all_acc in enumerate([all_acc_sing, all_acc_mult]):\n",
    "    \n",
    "    # Create plot \n",
    "    fig = plt.figure(figsize=(15, 6), dpi=200)\n",
    "    gsp = fig.add_gridspec(2, 4)\n",
    "    axes = [[], []]\n",
    "    \n",
    "    # Plot heatmaps \n",
    "    sns.reset_orig()\n",
    "    mpl.rcParams['text.usetex'] = True\n",
    "    mpl.rcParams['text.latex.preamble'] = [r'\\usepackage{amsmath}']\n",
    "    \n",
    "    # Enumerate over all inference methods for one data type (single or multiple)\n",
    "    for i, accuracy in enumerate(all_acc): \n",
    "        row = i // 4\n",
    "        col = i % 4\n",
    "        ax = fig.add_subplot(gsp[row, col])\n",
    "        pcm = ax.pcolormesh(e_plot, n_plot, np.average(accuracy, axis=0), vmin=0.5, vmax=1)\n",
    "        \n",
    "        ax.set_title(titles[i], fontsize=20)\n",
    "        ax.set_xticks(np.arange(0.2, 1.2, 0.2))\n",
    "        ax.set_xticklabels([r'$\\mathrm{0.2}$', r'$\\mathrm{0.4}$', \n",
    "                            r'$\\mathrm{0.6}$', r'$\\mathrm{0.8}$', r'$\\mathrm{1.0}$'], fontsize=15)\n",
    "        ax.set_yticks(np.arange(10, 60, 10))\n",
    "        ax.set_yticklabels([r'$\\mathrm{10}$', r'$\\mathrm{20}$', \n",
    "                            r'$\\mathrm{30}$', r'$\\mathrm{40}$', r'$\\mathrm{50}$'], fontsize=15)\n",
    "        \n",
    "        if (row == 0): # top row\n",
    "            ax.set_xticklabels([])\n",
    "        else: # bottom row\n",
    "            ax.set_xlabel(r'$\\epsilon$', fontsize=20)\n",
    "            \n",
    "        if (col == 0): # left col\n",
    "            ax.set_ylabel(r'$n$', fontsize=20, rotation=0)\n",
    "        else:\n",
    "            ax.set_yticklabels([])\n",
    "            \n",
    "        axes[row].append(ax)\n",
    "        \n",
    "    # Plot boxplots\n",
    "    boxplot_data = [np.average(accuracy, axis=0).flatten() for accuracy in all_acc]\n",
    "    sns.set(style='whitegrid')\n",
    "    ax = fig.add_subplot(gsp[-1, -1])\n",
    "    sns.boxplot(data=boxplot_data, width=0.4, ax=ax)\n",
    "    ax.set_xticks(np.arange(len(all_acc)))\n",
    "    ax.set_xticklabels(titles, fontsize=12, rotation=90)\n",
    "    ax.set_yticks(np.arange(0.6, 1.1, 0.1))\n",
    "    ax.set_yticklabels([r'$\\mathrm{0.6}$', r'$\\mathrm{0.7}$', r'$\\mathrm{0.8}$', \n",
    "                        r'$\\mathrm{0.9}$', r'$\\mathrm{1.0}$'], fontsize=15)\n",
    "    ax.set_ylabel(r'$\\mathrm{Accuracy}$', fontsize=20)\n",
    "    ax.set_ylim([0.58, 1.02])\n",
    "    axes[-1].append(ax)\n",
    "    plt.tight_layout()\n",
    "\n",
    "    # Add colorbar\n",
    "    sns.reset_orig()\n",
    "    mpl.rcParams['text.usetex'] = True\n",
    "    mpl.rcParams['text.latex.preamble'] = [r'\\usepackage{amsmath}']\n",
    "    cbar = fig.colorbar(pcm, ax=[axes[0][:], axes[1][:]], location='right', shrink=0.5)\n",
    "    cbar.ax.tick_params(labelsize=12) \n",
    "    \n",
    "    plt.show()"
   ]
  },
  {
   "cell_type": "code",
   "execution_count": null,
   "metadata": {},
   "outputs": [],
   "source": []
  }
 ],
 "metadata": {
  "kernelspec": {
   "display_name": "Python 3",
   "language": "python",
   "name": "python3"
  },
  "language_info": {
   "codemirror_mode": {
    "name": "ipython",
    "version": 3
   },
   "file_extension": ".py",
   "mimetype": "text/x-python",
   "name": "python",
   "nbconvert_exporter": "python",
   "pygments_lexer": "ipython3",
   "version": "3.8.5"
  }
 },
 "nbformat": 4,
 "nbformat_minor": 4
}
