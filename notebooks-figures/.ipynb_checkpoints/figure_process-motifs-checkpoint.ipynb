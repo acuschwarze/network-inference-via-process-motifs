{
 "cells": [
  {
   "cell_type": "markdown",
   "metadata": {},
   "source": [
    "#### Import packages ..."
   ]
  },
  {
   "cell_type": "code",
   "execution_count": 1,
   "metadata": {
    "jupyter": {
     "source_hidden": true
    },
    "tags": []
   },
   "outputs": [],
   "source": [
    "import sys\n",
    "import matplotlib \n",
    "from matplotlib import pyplot as plt\n",
    "from matplotlib.font_manager import FontProperties\n",
    "from matplotlib.patches import FancyBboxPatch\n",
    "import matplotlib.transforms as mtransforms\n",
    "import matplotlib.patches as mpatches\n",
    "import numpy as np\n",
    "import networkx as nx\n",
    "\n",
    "sys.path.append('../utils/')\n",
    "sys.path.append('../libs/')\n",
    "from curvygraph import *\n",
    "\n",
    "from utils import c8, boldfont, rcPhysRev, draw_process_motif"
   ]
  },
  {
   "cell_type": "markdown",
   "metadata": {},
   "source": [
    "#### Set fonts for figures ..."
   ]
  },
  {
   "cell_type": "code",
   "execution_count": 2,
   "metadata": {
    "jupyter": {
     "source_hidden": true
    },
    "tags": []
   },
   "outputs": [],
   "source": [
    "%%capture\n",
    "# some matplotlib configs to make labels pretty\n",
    "rcPhysRev()"
   ]
  },
  {
   "cell_type": "markdown",
   "metadata": {
    "tags": [
     "hide_output",
     "hide_input",
     "hide-input",
     "hide-output"
    ]
   },
   "source": [
    "#### Define some functions for drawing figure elements ..."
   ]
  },
  {
   "cell_type": "code",
   "execution_count": 3,
   "metadata": {
    "jupyter": {
     "source_hidden": true
    },
    "tags": []
   },
   "outputs": [],
   "source": [
    "def _ucv(alpha):\n",
    "    alpha_rad = alpha/180*np.pi\n",
    "    vec = np.array([np.cos(alpha_rad),np.sin(alpha_rad)])\n",
    "    return vec\n",
    "    \n",
    "def draw_path_graph(center=(0,0), radius=1, edges=[[0,1],[1,2],[2,3]], \n",
    "    ax=None, angle=30, fontsize=9, node_radius=0.1, **kwargs):\n",
    "    \n",
    "    if ax is None:\n",
    "        ax = plt.gca()\n",
    "        \n",
    "    #_edge_graph_positions(center, radius)\n",
    "    edge_length = np.sqrt(3*radius)\n",
    "    p1 = _ucv(90-angle)*edge_length/2\n",
    "    p0 = p1+_ucv(-(90-angle))*edge_length\n",
    "    p2 = _ucv(-(90+angle))*edge_length/2\n",
    "    p3 = p2+_ucv(90+angle)*edge_length\n",
    "    pos_arr = np.array([p0,p1,p2,p3])+np.array(center)\n",
    "    pos_dict = {i:pos_arr[i] for i in range(4)}\n",
    "    \n",
    "    # draw graph\n",
    "    G = nx.DiGraph()\n",
    "    G.add_nodes_from(range(4))\n",
    "    G.add_edges_from(edges)\n",
    "    node_color=['k' for i in range(4)] \n",
    "    for i, d in G.out_degree():\n",
    "        if d > 1:\n",
    "            node_color[i] = 'white'\n",
    "        \n",
    "    nx.draw_networkx_nodes(G, pos=pos_dict, node_color=node_color, \n",
    "        edgecolors='k', ax=ax, **kwargs)\n",
    "    nx.draw_networkx_edges(G, pos=pos_dict, ax=ax, **kwargs)\n",
    "    \n",
    "    # draw focal nodes\n",
    "    focal_node = CurvyNode(radius=node_radius, facecolor=(1,1,0.35), \n",
    "        linecolor=\"black\", linewidth=1)\n",
    "    for i in [0,3]:\n",
    "        g = makeStarGraph(3, '111', '>>>', \n",
    "            center=pos_arr[i], nodes_like=focal_node)\n",
    "        g.nodes[0].set_zorder(10)\n",
    "        if i==0:\n",
    "            g.nodes[0].set_label_text(r'$i$')\n",
    "            g.nodes[0].set_facecolor('orange')\n",
    "        else:\n",
    "             g.nodes[0].set_label_text(r'$j$')\n",
    "        g.nodes[0].set_label_size(fontsize)\n",
    "        g.nodes[0].draw(ax=ax)"
   ]
  },
  {
   "cell_type": "markdown",
   "metadata": {
    "tags": []
   },
   "source": [
    "#### Draw Figure ...\n",
    "(This is Figure 4 in our paper.)"
   ]
  },
  {
   "cell_type": "code",
   "execution_count": 4,
   "metadata": {
    "jupyter": {
     "source_hidden": true
    },
    "tags": []
   },
   "outputs": [
    {
     "data": {
      "image/png": "[encoded data removed]",
      "text/plain": [
       "<Figure size 288x288 with 1 Axes>"
      ]
     },
     "metadata": {},
     "output_type": "display_data"
    }
   ],
   "source": [
    "plt.figure(figsize=(4,4))\n",
    "ax = plt.subplot(111)\n",
    "plt.ylim([-0.35,2.65])\n",
    "plt.xlim([0.5,3.5])\n",
    "small_font = 8\n",
    "\n",
    "matrices = [r'${\\bf A}^3$',r'$({\\bf A}^T)^3$',r'${\\bf A}^2({\\bf A}^T)$']\n",
    "edges = [[[3,2],[2,1],[1,0]],\n",
    "         [[0,1],[1,2],[2,3]],\n",
    "         [[1,0],[2,1],[2,3]]]\n",
    "edge_labels = [[0,3],[3,0],[1,2]]\n",
    "\n",
    "for i in range(3):\n",
    "    ax.text(0.85,i,matrices[2-i], ha='center', va='center', size=12)\n",
    "    draw_path_graph(center=(1.8,i), edges=edges[2-i],\n",
    "        radius=0.08, node_size=[100,50,50,100], angle=35, fontsize=small_font,\n",
    "        node_radius=0.08)\n",
    "    draw_process_motif(center=(3,i), edge_labels=edge_labels[2-i],\n",
    "        head_pad=0.01, node_radius=0.08, fontsize=small_font, edge_label_fontsize=small_font+1)\n",
    "\n",
    "ax.text(0.85, 2.6, 'Matrix', ha='center', va='top', size=small_font+1)\n",
    "ax.text(1.8, 2.6, 'Edge graph', ha='center', va='top', size=small_font+1)\n",
    "ax.text(3, 2.6, 'Walk graph', ha='center', va='top', size=small_font+1)\n",
    "ax.axis('off')\n",
    "plt.savefig('../figures/figure_walk_graphs.pdf')"
   ]
  },
  {
   "cell_type": "code",
   "execution_count": null,
   "metadata": {},
   "outputs": [],
   "source": []
  }
 ],
 "metadata": {
  "kernelspec": {
   "display_name": "Python 3 (ipykernel)",
   "language": "python",
   "name": "python3"
  },
  "language_info": {
   "codemirror_mode": {
    "name": "ipython",
    "version": 3
   },
   "file_extension": ".py",
   "mimetype": "text/x-python",
   "name": "python",
   "nbconvert_exporter": "python",
   "pygments_lexer": "ipython3",
   "version": "3.8.5"
  }
 },
 "nbformat": 4,
 "nbformat_minor": 4
}
