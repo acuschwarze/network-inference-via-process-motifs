{
 "cells": [
  {
   "cell_type": "code",
   "execution_count": 1,
   "metadata": {},
   "outputs": [],
   "source": [
    "import sys\n",
    "import matplotlib as mpl\n",
    "import seaborn as sns\n",
    "\n",
    "sys.path.append('../utils/')\n",
    "sys.path.append('../libs/')\n",
    "#from methods import *\n",
    "from utils import *\n",
    "\n",
    "NUM_NET = 3"
   ]
  },
  {
   "cell_type": "markdown",
   "metadata": {},
   "source": [
    "# Network Size vs. Coupling Strength (Compare Networks)"
   ]
  },
  {
   "cell_type": "code",
   "execution_count": 2,
   "metadata": {},
   "outputs": [],
   "source": [
    "# Declare system and network parameters \n",
    "d = 0.05\n",
    "theta = 1\n",
    "sigma = 0.1\n",
    "\n",
    "# Declare experiment parameters\n",
    "num_trials = 50\n",
    "n_vals = np.arange(5, 55, 5)\n",
    "e_vals = np.arange(0.1, 1.0, 0.1)\n",
    "\n",
    "n_plot = np.append(n_vals, 55)\n",
    "e_plot = np.append(e_vals, 1.0)"
   ]
  },
  {
   "cell_type": "code",
   "execution_count": null,
   "metadata": {},
   "outputs": [
    {
     "name": "stdout",
     "output_type": "stream",
     "text": [
      "Running trials...\n",
      "Trial 0\n"
     ]
    }
   ],
   "source": [
    "# Compute method accuracy for all network types on both singular and multiple delay data\n",
    "acc_sing = []\n",
    "acc_mult = []\n",
    "for i in range(NUM_NET):\n",
    "    acc_sing.append(np.empty((num_trials, len(n_vals), len(e_vals))))\n",
    "    acc_mult.append(np.empty((num_trials, len(n_vals), len(e_vals))))\n",
    "\n",
    "print('Running trials...')\n",
    "for i in range(num_trials):\n",
    "    if (i % 10 == 0):\n",
    "        print('Trial ' + str(i))\n",
    "        \n",
    "    for j, n in enumerate(n_vals):\n",
    "        for k, epsilon in enumerate(e_vals):\n",
    "            # Build networks (ensure networks approximately have the same density)\n",
    "            adj_er = make_adjacency(n, d, directedness=0.8, model='ER') # random\n",
    "            adj_rl = make_adjacency(n, d, directedness=0.8, model='RL') # lattice\n",
    "            adj_ba = make_adjacency(n, d, directedness=0.8, model='BA') # preferential attachment\n",
    "            \n",
    "            # Build dynamics with each adjacency matrix \n",
    "            for l, adj in enumerate([adj_er, adj_rl, adj_ba]):\n",
    "                m = int(np.sum(adj))\n",
    "                X_sing = sim(adj, epsilon, sigma, theta, dt=dt, max_lag=1)\n",
    "                X_mult = sim(adj, epsilon, sigma, theta, dt=dt, max_lag=5)\n",
    "                \n",
    "                est_sing = inf_via_s(X_sing, m, max_lag=1)\n",
    "                acc_sing[l][i, j, k] = get_accuracy(est_sing, adj)\n",
    "                \n",
    "                est_mult = inf_via_s(X_mult, m, max_lag=5)\n",
    "                acc_mult[l][i, j, k] = get_accuracy(est_mult, adj)\n",
    "print('Done!')"
   ]
  },
  {
   "cell_type": "code",
   "execution_count": null,
   "metadata": {},
   "outputs": [],
   "source": [
    "titles = []\n",
    "titles.append(r'$\\mathrm{ER}$') # Erdos-Renyi\n",
    "titles.append(r'$\\mathrm{RL}$') # Regular Lattice\n",
    "titles.append(r'$\\mathrm{BA}$') # Barabasi-Albert\n",
    "\n",
    "# Create plot \n",
    "fig = plt.figure(figsize=(15, 6), dpi=200)\n",
    "gsp = fig.add_gridspec(2, NUM_NET + 1)\n",
    "axes = [[], []]\n",
    "\n",
    "# Plot heatmaps \n",
    "sns.reset_orig()\n",
    "mpl.rcParams['text.usetex'] = True\n",
    "mpl.rcParams['text.latex.preamble'] = [r'\\usepackage{amsmath}']\n",
    "\n",
    "for i in range(NUM_NET):\n",
    "    ax1 = fig.add_subplot(gsp[0, i])\n",
    "    ax2 = fig.add_subplot(gsp[1, i])\n",
    "    for j, ax in enumerate([ax1, ax2]):\n",
    "        if (j == 0): # single\n",
    "            pcm = ax.pcolormesh(e_plot, n_plot, np.average(acc_sing[i], axis=0), vmin=0.75, vmax=1)\n",
    "            ax.set_title(titles[i], fontsize=20)\n",
    "            ax.set_xticks(np.arange(0.2, 1.2, 0.2))\n",
    "            ax.set_xticklabels([])\n",
    "        else: # multiple\n",
    "            pcm = ax.pcolormesh(e_plot, n_plot, np.average(acc_mult[i], axis=0), vmin=0.75, vmax=1)\n",
    "            ax.set_xlabel(r'$\\epsilon$', fontsize=20)\n",
    "            ax.set_xticks(np.arange(0.2, 1.2, 0.2))\n",
    "            ax.set_xticklabels([r'$\\mathrm{0.2}$', r'$\\mathrm{0.4}$', \n",
    "                                r'$\\mathrm{0.6}$', r'$\\mathrm{0.8}$', r'$\\mathrm{1.0}$'], fontsize=15)\n",
    "        ax.set_yticks(np.arange(10, 60, 10))\n",
    "        ax.set_yticklabels([r'$\\mathrm{10}$', r'$\\mathrm{20}$', \n",
    "                            r'$\\mathrm{30}$', r'$\\mathrm{40}$', r'$\\mathrm{50}$'], fontsize=15)\n",
    "        if (i == 0):\n",
    "            ax.set_ylabel(r'$n$', fontsize=20, rotation=0)\n",
    "        else:\n",
    "            ax.set_yticklabels([])\n",
    "        axes[j].append(ax)\n",
    "\n",
    "# Add colorbars\n",
    "cbar = fig.colorbar(pcm, ax=axes[0], location='right')\n",
    "cbar.ax.tick_params(labelsize=12) \n",
    "cbar = fig.colorbar(pcm, ax=axes[1], location='right')\n",
    "cbar.ax.tick_params(labelsize=12) \n",
    "        \n",
    "# Plot boxplots\n",
    "sns.set(style='whitegrid')\n",
    "ax1 = fig.add_subplot(gsp[0, -1])\n",
    "ax2 = fig.add_subplot(gsp[1, -1])\n",
    "\n",
    "for j, ax in enumerate([ax1, ax2]):\n",
    "    if (j == 0): # single\n",
    "        sns.boxplot(data=[np.average(acc_sing[0], axis=0).flatten(), \n",
    "                          np.average(acc_sing[1], axis=0).flatten(), \n",
    "                          np.average(acc_sing[2], axis=0).flatten()], width=0.4, ax=ax)\n",
    "    else: # multiple \n",
    "        sns.boxplot(data=[np.average(acc_mult[0], axis=0).flatten(), \n",
    "                          np.average(acc_mult[1], axis=0).flatten(), \n",
    "                          np.average(acc_mult[2], axis=0).flatten()], width=0.4, ax=ax)\n",
    "    ax.set_xticks(np.arange(NUM_NET))\n",
    "    ax.set_xticklabels(titles, fontsize=15)\n",
    "    ax.set_yticks(np.arange(0.8, 1.05, 0.05))\n",
    "    ax.set_yticklabels([r'$\\mathrm{0.80}$', r'$\\mathrm{0.85}$', r'$\\mathrm{0.90}$', \n",
    "                        r'$\\mathrm{0.95}$', r'$\\mathrm{1.00}$'], fontsize=15)\n",
    "    ax.set_ylabel(r'$\\mathrm{Accuracy}$', fontsize=20)\n",
    "    ax.set_ylim([0.83, 1.02])\n",
    "\n",
    "# plt.tight_layout()\n",
    "plt.show()"
   ]
  },
  {
   "cell_type": "code",
   "execution_count": null,
   "metadata": {},
   "outputs": [],
   "source": []
  },
  {
   "cell_type": "code",
   "execution_count": null,
   "metadata": {},
   "outputs": [],
   "source": []
  }
 ],
 "metadata": {
  "kernelspec": {
   "display_name": "Python 3",
   "language": "python",
   "name": "python3"
  },
  "language_info": {
   "codemirror_mode": {
    "name": "ipython",
    "version": 3
   },
   "file_extension": ".py",
   "mimetype": "text/x-python",
   "name": "python",
   "nbconvert_exporter": "python",
   "pygments_lexer": "ipython3",
   "version": "3.7.6"
  }
 },
 "nbformat": 4,
 "nbformat_minor": 4
}
