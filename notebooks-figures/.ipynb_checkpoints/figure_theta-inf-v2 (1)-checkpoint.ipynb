{
 "cells": [
  {
   "cell_type": "code",
   "execution_count": 2,
   "metadata": {},
   "outputs": [
    {
     "name": "stderr",
     "output_type": "stream",
     "text": [
      "../utils\\plot_utils.py:50: MatplotlibDeprecationWarning: Support for setting the 'text.latex.preamble' or 'pgf.preamble' rcParam to a list of strings is deprecated since 3.3 and will be removed two minor releases later; set it to a single string instead.\n",
      "  matplotlib.rcParams['text.latex.preamble'] = [\n"
     ]
    },
    {
     "data": {
      "image/png": "[encoded data removed]",
      "text/plain": [
       "<Figure size 432x288 with 1 Axes>"
      ]
     },
     "metadata": {
      "needs_background": "light"
     },
     "output_type": "display_data"
    }
   ],
   "source": [
    "import sys\n",
    "import numpy as np\n",
    "import matplotlib\n",
    "from matplotlib import pyplot as plt\n",
    "import seaborn as sns\n",
    "sys.path.append('../utils/')\n",
    "from utils import *\n",
    "import time\n",
    "\n",
    "rcPhysRev(fontsize=10)"
   ]
  },
  {
   "cell_type": "code",
   "execution_count": 3,
   "metadata": {},
   "outputs": [
    {
     "name": "stdout",
     "output_type": "stream",
     "text": [
      "Computing for n...\n",
      "Computing for density...\n",
      "380.0268225669861\n"
     ]
    }
   ],
   "source": [
    "xvars = [Variable('n', np.arange(5, 51, 1)), \n",
    "         Variable('density', np.arange(0.1, 1, 0.025))]\n",
    "num_trials = [100,100]\n",
    "\n",
    "t = time.time()\n",
    "plot_data_theta = []\n",
    "plot_data_ctime = []\n",
    "ctimes = np.random.uniform(1,10, size=max(num_trials))\n",
    "thetas = np.random.uniform(0,1, size=max(num_trials))\n",
    "for ix, x in enumerate(xvars):\n",
    "    print('Computing for ' + x.name + '...')\n",
    "    theta_acc = np.zeros((len(x.values), num_trials[ix]))\n",
    "    ctime_acc = np.zeros((len(x.values), num_trials[ix]))\n",
    "    for it in range(num_trials[ix]):\n",
    "        ctime = ctimes[it]\n",
    "        theta = thetas[it]\n",
    "        for ix, xval in enumerate(x.values):\n",
    "            pars = default_siminf_pars()\n",
    "            pars['theta'] = theta\n",
    "            #pars['ctime'] = ctime\n",
    "            pars[x.name] = xval\n",
    "            theta_inf,_ = infer_parameters(siminf(**pars)['sim'], pars['dt'])\n",
    "            ctime_acc[ix,it] = np.linalg.norm(1/theta_inf-1/pars['theta'])#*np.linalg.norm(pars['theta'])\n",
    "            theta_acc[ix,it] = np.linalg.norm(theta_inf-pars['theta'])#/np.linalg.norm(pars['theta'])\n",
    "    plot_data_theta.append(theta_acc)\n",
    "    plot_data_ctime.append(ctime_acc)\n",
    "    \n",
    "print(time.time()-t)"
   ]
  },
  {
   "cell_type": "code",
   "execution_count": 4,
   "metadata": {},
   "outputs": [
    {
     "name": "stdout",
     "output_type": "stream",
     "text": [
      "[ 5  6  7  8  9 10 11 12 13 14 15 16 17 18 19 20 21 22 23 24 25 26 27 28\n",
      " 29 30 31 32 33 34 35 36 37 38 39 40 41 42 43 44 45 46 47 48 49 50]\n",
      "[0.1   0.125 0.15  0.175 0.2   0.225 0.25  0.275 0.3   0.325 0.35  0.375\n",
      " 0.4   0.425 0.45  0.475 0.5   0.525 0.55  0.575 0.6   0.625 0.65  0.675\n",
      " 0.7   0.725 0.75  0.775 0.8   0.825 0.85  0.875 0.9   0.925 0.95  0.975]\n"
     ]
    },
    {
     "data": {
      "image/png": "[encoded data removed]",
      "text/plain": [
       "<Figure size 288x180 with 2 Axes>"
      ]
     },
     "metadata": {
      "needs_background": "light"
     },
     "output_type": "display_data"
    }
   ],
   "source": [
    "plt.figure(figsize=(4,2.5))\n",
    "for i, x in enumerate(xvars):\n",
    "    ax = plt.subplot(1, 2, i + 1)\n",
    "    yvals = [np.mean(plot_data_theta[i][j]) for j in range(len(plot_data_ctime[i]))]\n",
    "    plt.plot(x.values, yvals, c=c8(1), linewidth=0, marker='+') #, markersize=4)\n",
    "    print(x.values)\n",
    "    plt.xlabel([r'$n$',r'$d$'][i])\n",
    "    #plt.ylim([0,0.1])\n",
    "    if (i % 3 == 0):\n",
    "        plt.ylabel(r'$|\\hat\\tau^{-1}-\\tau^{-1}|$')\n",
    "        ax.set_xticks([10,20,30,40,50])\n",
    "        ax.set_yticks([0, 0.02, 0.04, 0.06, 0.08, 0.1])\n",
    "    else:\n",
    "        #plt.ylabel(r'$|\\hat\\theta-\\theta|$')\n",
    "        ax.set_xticks([0, 0.5, 1.0])\n",
    "        ax.set_yticks([0.0, 0.02, 0.04, 0.06])\n",
    "    # plt.ylim([0.01, 0.06])\n",
    "plt.tight_layout()\n",
    "plt.savefig('../figures/figure_theta_inf.pdf')"
   ]
  },
  {
   "cell_type": "code",
   "execution_count": null,
   "metadata": {},
   "outputs": [],
   "source": []
  }
 ],
 "metadata": {
  "kernelspec": {
   "display_name": "Python 3",
   "language": "python",
   "name": "python3"
  },
  "language_info": {
   "codemirror_mode": {
    "name": "ipython",
    "version": 3
   },
   "file_extension": ".py",
   "mimetype": "text/x-python",
   "name": "python",
   "nbconvert_exporter": "python",
   "pygments_lexer": "ipython3",
   "version": "3.8.5"
  }
 },
 "nbformat": 4,
 "nbformat_minor": 4
}
