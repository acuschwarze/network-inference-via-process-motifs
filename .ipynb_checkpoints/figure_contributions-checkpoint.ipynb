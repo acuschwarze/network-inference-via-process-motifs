{
 "cells": [
  {
   "cell_type": "code",
   "execution_count": 1,
   "metadata": {},
   "outputs": [],
   "source": [
    "import sys\n",
    "sys.path.append('libs/')\n",
    "from curvygraph import *\n",
    "\n",
    "import matplotlib \n",
    "from matplotlib import pyplot as plt\n",
    "from matplotlib.font_manager import FontProperties\n",
    "from matplotlib.patches import FancyBboxPatch\n",
    "import matplotlib.transforms as mtransforms\n",
    "import matplotlib.patches as mpatches\n",
    "import numpy as np\n",
    "import networkx as nx\n",
    "\n",
    "from utils import c8, boldfont, rcPhysRev, draw_process_motif"
   ]
  },
  {
   "cell_type": "code",
   "execution_count": 2,
   "metadata": {},
   "outputs": [
    {
     "name": "stderr",
     "output_type": "stream",
     "text": [
      "C:\\Users\\alice\\Google Drive\\jupyter\\inference-via-process-motifs\\plot_utils.py:20: MatplotlibDeprecationWarning: Support for setting the 'text.latex.preamble' or 'pgf.preamble' rcParam to a list of strings is deprecated since 3.3 and will be removed two minor releases later; set it to a single string instead.\n",
      "  matplotlib.rcParams['text.latex.preamble'] = [\n"
     ]
    },
    {
     "data": {
      "image/png": "[encoded data removed]",
      "text/plain": [
       "<Figure size 432x288 with 1 Axes>"
      ]
     },
     "metadata": {
      "needs_background": "light"
     },
     "output_type": "display_data"
    }
   ],
   "source": [
    "# some matplotlib configs to make labels pretty\n",
    "rcPhysRev(fontsize=10)"
   ]
  },
  {
   "cell_type": "code",
   "execution_count": 3,
   "metadata": {},
   "outputs": [],
   "source": [
    "from scipy.special import hyp2f1, binom\n",
    "\n",
    "def cov_contribution(L, l, epsilon=0.9, theta=1.0, dt=1.0, sigma=1.0):\n",
    "    mll = np.max([L-l,l])   \n",
    "    rml = np.abs(L-2*l)\n",
    "    c = (sigma**2)*((theta*epsilon*dt)**L)*dt*(1-theta*dt)**rml\n",
    "    c = c * binom(mll, rml) * hyp2f1(mll+1,mll+1,rml+1,(1-theta*dt)**2)\n",
    "    return c\n",
    "\n",
    "def crosscov_contribution(L, l, order=1, epsilon=0.9, theta=1.0, dt=1.0, sigma=1.0):\n",
    "    c = (1-theta*dt)*cov_contribution(L, l, epsilon=epsilon, \n",
    "        theta=theta, dt=dt, sigma=sigma)\n",
    "    c += epsilon*theta*dt*cov_contribution(L-1, l, epsilon=epsilon, \n",
    "        theta=theta, dt=dt, sigma=sigma)\n",
    "    return c\n",
    "\n",
    "def score_function(L, l, md=1, epsilon=0.9, theta=1.0, dt=1.0, sigma=1.0):\n",
    "    c = epsilon*theta*dt*cov_contribution(L-1, l, epsilon=epsilon, \n",
    "        theta=theta, dt=dt, sigma=sigma)\n",
    "    return c"
   ]
  },
  {
   "cell_type": "code",
   "execution_count": 4,
   "metadata": {},
   "outputs": [],
   "source": [
    "################################################################################\n",
    "# get motif contributions\n",
    "edge_labels = [[0,1],[1,0],[1,1],[0,2],[2,0],[1,2],[2,1],[0,3],[3,0]]\n",
    "params = [[0.9, 0.1], [0.5, 0.1], [0.9, 0.5]]\n",
    "c = np.zeros((4, len(params), len(edge_labels)))\n",
    "for i in range(len(params)):\n",
    "    c[0,i,0] = 1-np.sign(i)*0.025\n",
    "    c[1,i,:] = [ cov_contribution(el[0]+el[1],el[0], epsilon=params[i][0], \n",
    "        theta=params[i][1]) for el in edge_labels]\n",
    "    c[2,i,:] = [ crosscov_contribution(el[0]+el[1],el[0], order=1, epsilon=params[i][0], \n",
    "        theta=params[i][1]) for el in edge_labels]\n",
    "    c[3,i,:] = [ score_function(el[0]+el[1],el[0], md=1, epsilon=params[i][0], \n",
    "        theta=params[i][1]) for el in edge_labels]"
   ]
  },
  {
   "cell_type": "code",
   "execution_count": 5,
   "metadata": {},
   "outputs": [
    {
     "data": {
      "image/png": "[encoded data removed]",
      "text/plain": [
       "<Figure size 576x288 with 5 Axes>"
      ]
     },
     "metadata": {
      "needs_background": "light"
     },
     "output_type": "display_data"
    }
   ],
   "source": [
    "f, axes = plt.subplots(1, 5, gridspec_kw={'width_ratios': [1,2,2,2,2]}, figsize=(8,4))\n",
    "small_font = 8\n",
    "dx, dy = -0.08, 0.08 #should depend on max_motifs\n",
    "titles = ['ideal score', r'${\\bf \\Sigma}_{ij}^{(0)}$', r'${\\bf \\Sigma}_{ij}^{(1)}$', r'${\\bf S}_{ij}$']\n",
    "# draw y axis\n",
    "max_motifs = 5\n",
    "axes[0].set_ylim([-0.5, max_motifs-0.5])\n",
    "axes[0].set_xlim([-0.75+dx, 0.5+dx]) # should depend on max_motifs\n",
    "colors3 = ['darkblue','cyan', 'orange']\n",
    "\n",
    "for i in range(max_motifs):\n",
    "    draw_process_motif(ax=axes[0], center=(0,max_motifs-i-1-dy), \n",
    "        edge_labels=edge_labels[i], \n",
    "        head_pad=0.01, node_radius=0.11, fontsize=small_font, \n",
    "        edge_label_fontsize=small_font+1)\n",
    "    \n",
    "# draw bars\n",
    "max_params = 3\n",
    "dx = 0.15\n",
    "if False:\n",
    "    dbar = (1-2*dx)/max_params\n",
    "    for i in range(max_params):\n",
    "        for j in range(2,6):\n",
    "            x = np.arange(max_motifs)+ dx + i*dbar -0.5\n",
    "            axes[j-1].barh(x,c[j-2][i][:max_motifs][::-1], height=0.2)\n",
    "if True:\n",
    "    dbar = (1-2*dx)/(max_params-1)\n",
    "    for i in range(max_params):\n",
    "        for j in range(2,6):\n",
    "            axes[j-1].set_title(titles[j-2])\n",
    "            if i > 0: # and j>2:\n",
    "                x = np.arange(max_motifs)+ i*dbar -0.5\n",
    "                axes[j-1].barh(x,c[j-2][i][:max_motifs][::-1], height=dbar*0.8, \n",
    "                               #hatch=['//','..'][i-1], \n",
    "                               #edgecolor='black', \n",
    "                               color=colors3[i], label=params[i])\n",
    "            if i==0:\n",
    "                x = np.arange(max_motifs)\n",
    "                axes[j-1].barh(x,c[j-2][i][:max_motifs][::-1], height=0.8, \n",
    "                               #edgecolor='black', \n",
    "                               color=colors3[0], label=params[i])\n",
    "            if j == 2:\n",
    "                l = [ r'$\\epsilon={x},\\,\\,\\theta={y}$'.format(x=p[0],y=p[1]) for p in params]\n",
    "                colors = {l[i2]: colors3[i2] for i2 in range(3)}         \n",
    "                labels = list(colors.keys())\n",
    "                handles = [plt.Rectangle((0,0),1,1, color=colors[label]) for label in labels]\n",
    "                axes[j-1].legend(handles, labels)\n",
    "\n",
    "\n",
    "# make axes pretty\n",
    "for i in range(1,5):\n",
    "    axes[i].set_ylim([-0.5, max_motifs-0.5])\n",
    "    axes[i].set_yticks(range(max_motifs))\n",
    "    axes[i].set_yticklabels([])\n",
    "    #axes[i].set_xlim([0, 3])\n",
    "    axes[i].set_xlabel('contribution')\n",
    " \n",
    "plt.tight_layout(w_pad=-0.8)\n",
    "plt.savefig('figures/figure_contributions.pdf')\n",
    "#plt.subplots_adjust(hspace=0)"
   ]
  },
  {
   "cell_type": "code",
   "execution_count": 6,
   "metadata": {},
   "outputs": [
    {
     "data": {
      "image/png": "[encoded data removed]",
      "text/plain": [
       "<Figure size 288x288 with 5 Axes>"
      ]
     },
     "metadata": {
      "needs_background": "light"
     },
     "output_type": "display_data"
    }
   ],
   "source": [
    "f, axes = plt.subplots(1, 5, gridspec_kw={'width_ratios': [0.8,1,1,1,1]}, figsize=(4,4))\n",
    "small_font = 10\n",
    "dx, dy = -0.08, 0.08 #should depend on max_motifs\n",
    "titles = ['ideal\\nscore', r'${\\bf \\Sigma}_{ij}^{(0)}$', r'${\\bf \\Sigma}_{ij}^{(1)}$', r'${\\bf S}_{ij}$']\n",
    "# draw y axis\n",
    "max_motifs = 5\n",
    "axes[0].set_ylim([-0.5, max_motifs-0.5])\n",
    "axes[0].set_xlim([-0.4+dx, 0.5+dx]) # should depend on max_motifs\n",
    "colors3 = ['darkblue','cyan', 'orange']\n",
    "\n",
    "for i in range(max_motifs):\n",
    "    draw_process_motif(ax=axes[0], center=(0,max_motifs-i-1-dy), \n",
    "        edge_labels=edge_labels[i], \n",
    "        head_pad=0.01, node_radius=0.11, \n",
    "        node_label_fontsize=small_font-1, \n",
    "        edge_label_fontsize=small_font)\n",
    "    \n",
    "# draw bars\n",
    "max_params = 3\n",
    "dx = 0.15\n",
    "i = 0 # use first set of parameters\n",
    "titlepads = [6,12,12,12]\n",
    "for j in range(2,6): \n",
    "    axes[j-1].set_title(titles[j-2], pad=titlepads[j-2])\n",
    "    if i==0:\n",
    "        x = np.arange(max_motifs)\n",
    "        axes[j-1].barh(x,c[j-2][i][:max_motifs][::-1], height=0.6, \n",
    "                       #edgecolor='black', \n",
    "                       color=colors3[0], label=params[i])\n",
    "\n",
    "# make axes pretty\n",
    "for i in range(1,5):\n",
    "    axes[i].set_ylim([-0.5, max_motifs-0.5])\n",
    "    axes[i].set_yticks(range(max_motifs))\n",
    "    axes[i].set_yticklabels([])\n",
    "    axes[i].set_xlabel('contribution')\n",
    "    if i==3:\n",
    "        axes[i].set_xticks([0,2])\n",
    "    if i==4:\n",
    "        axes[i].set_xticks([0.0,0.3])\n",
    "\n",
    "plt.subplots_adjust(left=0, right=1, bottom=0.1, top=0.9)\n",
    "plt.savefig('figures/figure_contributions_v2.pdf')\n"
   ]
  },
  {
   "cell_type": "code",
   "execution_count": null,
   "metadata": {},
   "outputs": [],
   "source": []
  }
 ],
 "metadata": {
  "kernelspec": {
   "display_name": "Python 3",
   "language": "python",
   "name": "python3"
  },
  "language_info": {
   "codemirror_mode": {
    "name": "ipython",
    "version": 3
   },
   "file_extension": ".py",
   "mimetype": "text/x-python",
   "name": "python",
   "nbconvert_exporter": "python",
   "pygments_lexer": "ipython3",
   "version": "3.8.5"
  }
 },
 "nbformat": 4,
 "nbformat_minor": 4
}
