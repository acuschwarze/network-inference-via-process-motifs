{
 "cells": [
  {
   "cell_type": "code",
   "execution_count": 1,
   "metadata": {},
   "outputs": [],
   "source": [
    "import matplotlib\n",
    "from matplotlib import pyplot as plt\n",
    "#from matplotlib.font_manager import FontProperties\n",
    "import numpy as np\n",
    "import networkx as nx\n",
    "import pickle, time, os\n",
    "\n",
    "from utils import sim\n",
    "from graph_models import make_adjacency\n",
    "from inference_methods import infer_parameters"
   ]
  },
  {
   "cell_type": "code",
   "execution_count": 2,
   "metadata": {},
   "outputs": [
    {
     "name": "stdout",
     "output_type": "stream",
     "text": [
      "theta\n",
      "(0.11206243544113981, 1.1662881286253386)\n",
      "(0.21633325832118738, 0.9163289273994246)\n",
      "(0.3223908507447803, 0.8951365396106968)\n",
      "(0.4160547061609744, 0.9404549463788886)\n",
      "(0.5504268958936713, 0.8828658718065899)\n",
      "(0.6223172458222253, 0.9109861019707957)\n",
      "(0.7888378473001209, 0.9248306315431163)\n",
      "(0.8225303602433768, 0.8937157890492996)\n",
      "(0.9043493369767965, 0.8890904599578763)\n",
      "epsilon\n",
      "0.21730761600499549\n",
      "0.2637525550187056\n",
      "0.29794604570453614\n",
      "0.3928486815109708\n",
      "0.4546377259917734\n",
      "0.639893652895377\n",
      "0.7477446400221521\n",
      "0.8051649887432692\n",
      "0.8696039902714404\n",
      "sigma\n",
      "(0.5443439452350322, 0.9234416945539835)\n",
      "(0.5212865505078511, 0.8918632372136649)\n",
      "(0.5134698971311056, 0.9085232973931392)\n",
      "(0.48069405142493055, 0.8884714790941667)\n",
      "(0.5308088955180571, 0.8910142122881674)\n",
      "(0.5038818570683568, 0.9112326413097749)\n",
      "(0.519756503584398, 0.9184912246977378)\n",
      "(0.5342455440984266, 0.8932296865482943)\n",
      "(0.5330548343369049, 0.8784239431921536)\n"
     ]
    }
   ],
   "source": [
    "# epsilon, sigma, theta\n",
    "sigma = 0.2\n",
    "epsilon = 0.9\n",
    "theta = 0.5\n",
    "x0=np.zeros(10)\n",
    "dt = 1\n",
    "\n",
    "print('Test estimator for theta')\n",
    "for t in np.arange(0.1, 1, 0.1):\n",
    "    X = sim(make_adjacency(10, 0.2), epsilon, sigma, t, x0=x0, dt=dt)\n",
    "    print(t, infer_parameters(X, dt)[0])\n",
    "    \n",
    "print('Test estimator for epsilon')\n",
    "for eps in np.arange(0.1, 1, 0.1):\n",
    "    X = sim(make_adjacency(10, 0.2), eps, sigma, theta, x0=x0, dt=dt)\n",
    "    print(eps, (infer_parameters(X, dt)[1]))\n",
    "    \n",
    "print('Test if accuracy of estimators depends on noise strength')\n",
    "for s in np.arange(0.1, 1, 0.1):\n",
    "    A = make_adjacency(10, 0.2, normalize=True)\n",
    "    X = sim(A, epsilon, s, theta, x0=x0, dt=dt)\n",
    "    print(infer_parameters(X, dt))"
   ]
  },
  {
   "cell_type": "code",
   "execution_count": 3,
   "metadata": {},
   "outputs": [],
   "source": [
    "# test quality of network inference with inferred parameters\n",
    "from utils import siminf"
   ]
  },
  {
   "cell_type": "code",
   "execution_count": 4,
   "metadata": {},
   "outputs": [],
   "source": [
    "num_trials = 100\n",
    "xrange = np.arange(0,1.1,0.1)\n",
    "src = []\n",
    "scc = []\n",
    "for d in xrange:\n",
    "    src += [np.mean([siminf(A=make_adjacency(10, 0.5, directedness=d), inference_method='SRC')[0]['accuracy'] for i in range(num_trials)])]\n",
    "    scc += [np.mean([siminf(A=make_adjacency(10, 0.5, directedness=d), inference_method='SCC')[0]['accuracy'] for i in range(num_trials)])]"
   ]
  },
  {
   "cell_type": "code",
   "execution_count": 5,
   "metadata": {},
   "outputs": [
    {
     "data": {
      "text/plain": [
       "<matplotlib.legend.Legend at 0x1b32b30a250>"
      ]
     },
     "execution_count": 5,
     "metadata": {},
     "output_type": "execute_result"
    },
    {
     "data": {
      "image/png": "[encoded data removed]",
      "text/plain": [
       "<Figure size 432x288 with 1 Axes>"
      ]
     },
     "metadata": {
      "needs_background": "light"
     },
     "output_type": "display_data"
    }
   ],
   "source": [
    "plt.plot(xrange, src, label='src')\n",
    "plt.plot(xrange, scc, label='scc')\n",
    "plt.legend()"
   ]
  },
  {
   "cell_type": "code",
   "execution_count": null,
   "metadata": {},
   "outputs": [],
   "source": []
  }
 ],
 "metadata": {
  "kernelspec": {
   "display_name": "Python 3",
   "language": "python",
   "name": "python3"
  },
  "language_info": {
   "codemirror_mode": {
    "name": "ipython",
    "version": 3
   },
   "file_extension": ".py",
   "mimetype": "text/x-python",
   "name": "python",
   "nbconvert_exporter": "python",
   "pygments_lexer": "ipython3",
   "version": "3.8.5"
  }
 },
 "nbformat": 4,
 "nbformat_minor": 4
}
